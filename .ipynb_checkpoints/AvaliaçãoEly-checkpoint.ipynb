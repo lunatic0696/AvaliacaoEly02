{
 "cells": [
  {
   "cell_type": "code",
   "execution_count": 36,
   "metadata": {},
   "outputs": [
    {
     "ename": "AttributeError",
     "evalue": "'tuple' object has no attribute 'values'",
     "output_type": "error",
     "traceback": [
      "\u001b[1;31m---------------------------------------------------------------------------\u001b[0m",
      "\u001b[1;31mAttributeError\u001b[0m                            Traceback (most recent call last)",
      "\u001b[1;32m<ipython-input-36-2dc7114b76db>\u001b[0m in \u001b[0;36m<module>\u001b[1;34m()\u001b[0m\n\u001b[0;32m     26\u001b[0m \u001b[1;31m#Teste Análise Discriminatória Linear (maior score)\u001b[0m\u001b[1;33m\u001b[0m\u001b[1;33m\u001b[0m\u001b[0m\n\u001b[0;32m     27\u001b[0m \u001b[0mclf\u001b[0m \u001b[1;33m=\u001b[0m \u001b[0mLinearDiscriminantAnalysis\u001b[0m\u001b[1;33m(\u001b[0m\u001b[1;33m)\u001b[0m\u001b[1;33m\u001b[0m\u001b[0m\n\u001b[1;32m---> 28\u001b[1;33m \u001b[0mclf\u001b[0m\u001b[1;33m.\u001b[0m\u001b[0mfit\u001b[0m\u001b[1;33m(\u001b[0m\u001b[0mx_treino\u001b[0m\u001b[1;33m,\u001b[0m \u001b[0my_treino\u001b[0m\u001b[1;33m.\u001b[0m\u001b[0mvalues\u001b[0m\u001b[1;33m.\u001b[0m\u001b[0mravel\u001b[0m\u001b[1;33m(\u001b[0m\u001b[1;33m)\u001b[0m\u001b[1;33m)\u001b[0m\u001b[1;33m\u001b[0m\u001b[0m\n\u001b[0m\u001b[0;32m     29\u001b[0m \u001b[1;33m\u001b[0m\u001b[0m\n\u001b[0;32m     30\u001b[0m \u001b[0mprint\u001b[0m\u001b[1;33m(\u001b[0m\u001b[0mclf\u001b[0m\u001b[1;33m.\u001b[0m\u001b[0mscore\u001b[0m\u001b[1;33m(\u001b[0m\u001b[0mx_teste\u001b[0m\u001b[1;33m,\u001b[0m \u001b[0my_teste\u001b[0m\u001b[1;33m)\u001b[0m\u001b[1;33m)\u001b[0m\u001b[1;33m\u001b[0m\u001b[0m\n",
      "\u001b[1;31mAttributeError\u001b[0m: 'tuple' object has no attribute 'values'"
     ]
    }
   ],
   "source": [
    "import pandas as pd\n",
    "from sklearn.discriminant_analysis import QuadraticDiscriminantAnalysis, LinearDiscriminantAnalysis\n",
    "import numpy as np\n",
    "from sklearn.ensemble import RandomForestClassifier, BaggingClassifier\n",
    "from sklearn.model_selection import cross_val_score, train_test_split\n",
    "from sklearn.linear_model import SGDClassifier\n",
    "from sklearn.metrics import confusion_matrix\n",
    "from sklearn.model_selection import KFold\n",
    "\n",
    "#Nome: Imunoterapia\n",
    "#Esse dataset fala sobre o resultado do tratamento de verrugas utilizando Imunoterapia\n",
    "#Possui 8 atributos\n",
    "\n",
    "\n",
    "df = pd.read_excel('Immunotherapy.xlsx')\n",
    "\n",
    "x = df[['sex','age','Time','Number_of_Warts', 'Type','Area','induration_diameter']]\n",
    "y = df[['Result_of_Treatment']]\n",
    "\n",
    "#x_treino, x_teste, y_treino, y_teste = train_test_split(x, y, test_size=0.25, random_state=0)\n",
    "\n",
    "x_treino, x_teste = kf.split(x)\n",
    "y_treino, y_teste = kf.split(y)\n",
    "\n",
    "#Teste Análise Discriminatória Linear (maior score)\n",
    "clf = LinearDiscriminantAnalysis()\n",
    "clf.fit(x_treino, y_treino.values.ravel())\n",
    "\n",
    "print(clf.score(x_teste, y_teste))\n",
    "\n",
    "print(pd.crosstab(y_teste.values.ravel(), clf.predict(x_teste), rownames=['Real'], colnames=['Predito T'], margins=True))\n",
    "\n",
    "#Teste Análise Discriminatória Quadrática\n",
    "clf = QuadraticDiscriminantAnalysis()\n",
    "clf.fit(x_treino, y_treino.values.ravel())\n",
    "\n",
    "print(clf.score(x_teste, y_teste))\n",
    "\n",
    "print(pd.crosstab(y_teste.values.ravel(), clf.predict(x_teste), rownames=['Real'], colnames=['Predito T'], margins=True))\n",
    "\n",
    "#Teste Floresta Randômica\n",
    "clf = RandomForestClassifier()\n",
    "clf.fit(x_treino, y_treino.values.ravel())\n",
    "\n",
    "print(clf.score(x_teste, y_teste))\n",
    "\n",
    "print(pd.crosstab(y_teste.values.ravel(), clf.predict(x_teste), rownames=['Real'], colnames=['Predito T'], margins=True))\n",
    "\n",
    "#Teste Bagging\n",
    "clf = BaggingClassifier()\n",
    "clf.fit(x_treino, y_treino.values.ravel())\n",
    "\n",
    "print(clf.score(x_teste, y_teste))\n",
    "\n",
    "print(pd.crosstab(y_teste.values.ravel(), clf.predict(x_teste), rownames=['Real'], colnames=['Predito T'], margins=True))"
   ]
  },
  {
   "cell_type": "code",
   "execution_count": null,
   "metadata": {},
   "outputs": [],
   "source": []
  },
  {
   "cell_type": "code",
   "execution_count": null,
   "metadata": {},
   "outputs": [],
   "source": []
  },
  {
   "cell_type": "code",
   "execution_count": null,
   "metadata": {},
   "outputs": [],
   "source": []
  },
  {
   "cell_type": "code",
   "execution_count": null,
   "metadata": {},
   "outputs": [],
   "source": []
  },
  {
   "cell_type": "code",
   "execution_count": null,
   "metadata": {},
   "outputs": [],
   "source": []
  }
 ],
 "metadata": {
  "kernelspec": {
   "display_name": "Python 3",
   "language": "python",
   "name": "python3"
  },
  "language_info": {
   "codemirror_mode": {
    "name": "ipython",
    "version": 3
   },
   "file_extension": ".py",
   "mimetype": "text/x-python",
   "name": "python",
   "nbconvert_exporter": "python",
   "pygments_lexer": "ipython3",
   "version": "3.7.0"
  }
 },
 "nbformat": 4,
 "nbformat_minor": 2
}
