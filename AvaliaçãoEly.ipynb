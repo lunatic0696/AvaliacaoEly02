{
 "cells": [
  {
   "cell_type": "code",
   "execution_count": 8,
   "metadata": {},
   "outputs": [
    {
     "name": "stdout",
     "output_type": "stream",
     "text": [
      "0.8260869565217391\n",
      "Predito T   1  All\n",
      "Real              \n",
      "0           4    4\n",
      "1          19   19\n",
      "All        23   23\n"
     ]
    },
    {
     "name": "stderr",
     "output_type": "stream",
     "text": [
      "C:\\ProgramData\\Anaconda3\\lib\\site-packages\\sklearn\\utils\\validation.py:578: DataConversionWarning: A column-vector y was passed when a 1d array was expected. Please change the shape of y to (n_samples, ), for example using ravel().\n",
      "  y = column_or_1d(y, warn=True)\n"
     ]
    },
    {
     "data": {
      "text/plain": [
       "\"clf = QuadraticDiscriminantAnalysis()\\nclf.fit(x_treino, y_treino.values.ravel())\\n\\nprint(clf.score(x_teste, y_teste))\\n\\nprint(pd.crosstab(y_teste.values.ravel(), clf.predict(x_teste), rownames=['Real'], colnames=['Predito T'], margins=True))\\n\\n#Teste Floresta Randômica\\nclf = RandomForestClassifier()\\nclf.fit(x_treino, y_treino.values.ravel())\\n\\nprint(clf.score(x_teste, y_teste))\\n\\nprint(pd.crosstab(y_teste.values.ravel(), clf.predict(x_teste), rownames=['Real'], colnames=['Predito T'], margins=True))\\n\\n#Teste Bagging\\nclf = BaggingClassifier()\\nclf.fit(x_treino, y_treino.values.ravel())\\n\\nprint(clf.score(x_teste, y_teste))\\n\\nprint(pd.crosstab(y_teste.values.ravel(), clf.predict(x_teste), rownames=['Real'], colnames=['Predito T'], margins=True))\""
      ]
     },
     "execution_count": 8,
     "metadata": {},
     "output_type": "execute_result"
    }
   ],
   "source": [
    "import pandas as pd\n",
    "from sklearn.discriminant_analysis import QuadraticDiscriminantAnalysis, LinearDiscriminantAnalysis\n",
    "import numpy as np\n",
    "from sklearn.ensemble import RandomForestClassifier, BaggingClassifier\n",
    "from sklearn.model_selection import cross_val_score, train_test_split\n",
    "from sklearn.linear_model import SGDClassifier\n",
    "from sklearn.metrics import confusion_matrix\n",
    "from sklearn.model_selection import RepeatedStratifiedKFold\n",
    "\n",
    "#Nome: Imunoterapia\n",
    "#Esse dataset fala sobre o resultado do tratamento de verrugas utilizando Imunoterapia\n",
    "#Possui 8 atributos\n",
    "\n",
    "\n",
    "df = pd.read_excel('Immunotherapy.xlsx')\n",
    "\n",
    "x = df[['sex','age','Time','Number_of_Warts', 'Type','Area','induration_diameter']]\n",
    "y = df[['Result_of_Treatment']]\n",
    "\n",
    "x_treino, x_teste, y_treino, y_teste = train_test_split(x, y, test_size=0.25, random_state=0)\n",
    "\n",
    "#rskf = RepeatedStratifiedKFold(n_splits=2, n_repeats=2,random_state=36851234)\n",
    "#x_treino, x_teste, y_treino, y_teste = rskf.split(x, y)\n",
    "\n",
    "#Substituição dos valores das colunas:\n",
    "df.loc[df['Result_of_Treatment'] == 1, 'Result_of_Treatment'] = \"Sucesso\"\n",
    "df.loc[df['Result_of_Treatment'] == 0, 'Result_of_Treatment'] = \"Fracasso\"\n",
    "\n",
    "#Teste Análise Discriminatória Linear (maior score)\n",
    "clf = LinearDiscriminantAnalysis()\n",
    "clf.fit(x_treino, y_treino)\n",
    "\n",
    "print(clf.score(x_teste, y_teste))\n",
    "\n",
    "print(pd.crosstab(y_teste.values.ravel(), clf.predict(x_teste), rownames=['Real'], colnames=['Predito T'], margins=True))\n",
    "\n",
    "#Teste Análise Discriminatória Quadrática\n",
    "'''clf = QuadraticDiscriminantAnalysis()\n",
    "clf.fit(x_treino, y_treino.values.ravel())\n",
    "\n",
    "print(clf.score(x_teste, y_teste))\n",
    "\n",
    "print(pd.crosstab(y_teste.values.ravel(), clf.predict(x_teste), rownames=['Real'], colnames=['Predito T'], margins=True))\n",
    "\n",
    "#Teste Floresta Randômica\n",
    "clf = RandomForestClassifier()\n",
    "clf.fit(x_treino, y_treino.values.ravel())\n",
    "\n",
    "print(clf.score(x_teste, y_teste))\n",
    "\n",
    "print(pd.crosstab(y_teste.values.ravel(), clf.predict(x_teste), rownames=['Real'], colnames=['Predito T'], margins=True))\n",
    "\n",
    "#Teste Bagging\n",
    "clf = BaggingClassifier()\n",
    "clf.fit(x_treino, y_treino.values.ravel())\n",
    "\n",
    "print(clf.score(x_teste, y_teste))\n",
    "\n",
    "print(pd.crosstab(y_teste.values.ravel(), clf.predict(x_teste), rownames=['Real'], colnames=['Predito T'], margins=True))'''"
   ]
  },
  {
   "cell_type": "code",
   "execution_count": null,
   "metadata": {},
   "outputs": [],
   "source": []
  }
 ],
 "metadata": {
  "kernelspec": {
   "display_name": "Python 3",
   "language": "python",
   "name": "python3"
  },
  "language_info": {
   "codemirror_mode": {
    "name": "ipython",
    "version": 3
   },
   "file_extension": ".py",
   "mimetype": "text/x-python",
   "name": "python",
   "nbconvert_exporter": "python",
   "pygments_lexer": "ipython3",
   "version": "3.7.0"
  }
 },
 "nbformat": 4,
 "nbformat_minor": 2
}
